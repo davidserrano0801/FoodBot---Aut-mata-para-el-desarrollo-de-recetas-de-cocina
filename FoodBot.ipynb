{
  "nbformat": 4,
  "nbformat_minor": 0,
  "metadata": {
    "colab": {
      "provenance": []
    },
    "kernelspec": {
      "name": "python3",
      "display_name": "Python 3"
    },
    "language_info": {
      "name": "python"
    }
  },
  "cells": [
    {
      "cell_type": "markdown",
      "source": [
        "# Proyecto: AutoFood \n",
        "\n",
        "**Autómatas y Lenguajes Formales**\n",
        "\n",
        "**Estudiantes:** \n",
        "\n",
        "**Jhonatan Serrano - 2200171**\n",
        "\n",
        "**Sebastián Sandoval - 2211853**\n",
        "\n",
        "**Freddy Galán - 2201520**\n",
        "\n",
        "**Escuela de Ingeniería de Sistemas e Informática** \n",
        "\n",
        "_Febrebro de 2023_\n"
      ],
      "metadata": {
        "id": "Zg87uJJR2FBc"
      }
    },
    {
      "cell_type": "code",
      "source": [
        "!mkdir files\n",
        "!pip install automata-lib"
      ],
      "metadata": {
        "colab": {
          "base_uri": "https://localhost:8080/"
        },
        "id": "yoFhMTOz3JnS",
        "outputId": "1b9a1a08-73c3-4072-8e7d-94355e9a828e"
      },
      "execution_count": 2,
      "outputs": [
        {
          "output_type": "stream",
          "name": "stdout",
          "text": [
            "Looking in indexes: https://pypi.org/simple, https://us-python.pkg.dev/colab-wheels/public/simple/\n",
            "Collecting automata-lib\n",
            "  Downloading automata_lib-7.1.0-py3-none-any.whl (49 kB)\n",
            "\u001b[2K     \u001b[90m━━━━━━━━━━━━━━━━━━━━━━━━━━━━━━━━━━━━━━━━\u001b[0m \u001b[32m49.4/49.4 KB\u001b[0m \u001b[31m2.4 MB/s\u001b[0m eta \u001b[36m0:00:00\u001b[0m\n",
            "\u001b[?25hCollecting pydot>=1.4.2\n",
            "  Downloading pydot-1.4.2-py2.py3-none-any.whl (21 kB)\n",
            "Collecting frozendict>=2.3.4\n",
            "  Downloading frozendict-2.3.4-cp38-cp38-manylinux_2_17_x86_64.manylinux2014_x86_64.whl (110 kB)\n",
            "\u001b[2K     \u001b[90m━━━━━━━━━━━━━━━━━━━━━━━━━━━━━━━━━━━━━━━\u001b[0m \u001b[32m111.0/111.0 KB\u001b[0m \u001b[31m6.6 MB/s\u001b[0m eta \u001b[36m0:00:00\u001b[0m\n",
            "\u001b[?25hRequirement already satisfied: networkx>=2.6.2 in /usr/local/lib/python3.8/dist-packages (from automata-lib) (3.0)\n",
            "Requirement already satisfied: pyparsing>=2.1.4 in /usr/local/lib/python3.8/dist-packages (from pydot>=1.4.2->automata-lib) (3.0.9)\n",
            "Installing collected packages: pydot, frozendict, automata-lib\n",
            "  Attempting uninstall: pydot\n",
            "    Found existing installation: pydot 1.3.0\n",
            "    Uninstalling pydot-1.3.0:\n",
            "      Successfully uninstalled pydot-1.3.0\n",
            "Successfully installed automata-lib-7.1.0 frozendict-2.3.4 pydot-1.4.2\n"
          ]
        }
      ]
    },
    {
      "cell_type": "code",
      "source": [
        "from IPython.display import Image, display"
      ],
      "metadata": {
        "id": "1VdQ08Zk3Ob3"
      },
      "execution_count": 3,
      "outputs": []
    },
    {
      "cell_type": "code",
      "source": [
        "def proyecto():\n",
        "\n",
        "    from automata.fa.dfa import DFA\n",
        "    p = DFA(\n",
        "        states ={'q0','q1','q2','q3','q4','q5','q6','q7','q8','q9','q10','q11',\n",
        "                 'q12','q13','q14','q15','q16','q17','q18','q19','q20','q21'},\n",
        "        input_symbols={'A','B','C','D','E','F','G','H', 'I','J','K','L',\n",
        "                       'M','N','O','P','Q','R','S','T','U','V','W','X'},\n",
        "        transitions={\n",
        "            'q0':{'A':'q1'},\n",
        "            'q1':{'B':'q2'},\n",
        "            'q2':{'B':'q2','C':'q3'},\n",
        "            'q3':{'D':'q4'},\n",
        "            'q4':{'D':'q4','E':'q5'},\n",
        "            'q5':{'F':'q6'},\n",
        "            'q6':{'G':'q7'},\n",
        "            'q7':{'H':'q8'},\n",
        "            'q8':{'I':'q8','J':'q9'},\n",
        "            'q9':{'K':'q10'},\n",
        "            'q10':{'L':'q11'},\n",
        "            'q11':{'M':'q12'},\n",
        "            'q12':{'M':'q12','N':'q13'},\n",
        "            'q13':{'N':'q13','O':'q14'},\n",
        "            'q14':{'P':'q14','Q':'q15'},\n",
        "            'q15':{'R':'q15','S':'q16'},\n",
        "            'q16':{'T':'q17'},\n",
        "            'q17':{'U':'q18'},\n",
        "            'q18':{'V':'q19'},\n",
        "            'q19':{'W':'q20'},\n",
        "            'q20':{'X':'q21'},\n",
        "            'q21':{'X':'q21'}\n",
        "        },\n",
        "        initial_state='q0',\n",
        "        final_states = {'q21'},\n",
        "        allow_partial = True\n",
        "    )\n",
        "    return p"
      ],
      "metadata": {
        "id": "At2kkEL23Ugh"
      },
      "execution_count": 4,
      "outputs": []
    },
    {
      "cell_type": "code",
      "source": [
        "\n",
        "\n",
        "def grade_1():\n",
        "    p = proyecto()\n",
        "    valid_words = [input(\"Ingrese: \")]\n",
        "    \n",
        "    invalid_words = []\n",
        "\n",
        "    for i in valid_words:\n",
        "        if p.accepts_input(i) != True:\n",
        "            return False\n",
        "    for j in invalid_words:\n",
        "        if p.accepts_input(j) != False:\n",
        "            return False\n",
        "    return True\n",
        "\n",
        "if grade_1():\n",
        "  print('Bon appétit ')\n",
        "else:\n",
        "  print('PARECE QUE NO SEGUISTE CORRECTAMENTE LOS PASOS :(')  "
      ],
      "metadata": {
        "colab": {
          "base_uri": "https://localhost:8080/"
        },
        "id": "OxKnd-kFhcPN",
        "outputId": "eb6676f4-ee79-4db5-8d8c-3e28198b2bac"
      },
      "execution_count": 7,
      "outputs": [
        {
          "output_type": "stream",
          "name": "stdout",
          "text": [
            "Ingrese: ABCDEFGHJKLMMNNOPQRSTUVWXXX\n",
            "Bon appétit \n"
          ]
        }
      ]
    }
  ]
}